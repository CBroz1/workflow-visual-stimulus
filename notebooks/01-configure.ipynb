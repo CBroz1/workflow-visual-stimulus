{
 "cells": [
  {
   "cell_type": "markdown",
   "metadata": {},
   "source": [
    "# DataJoint U24 - Workflow Visual Stimulus"
   ]
  },
  {
   "cell_type": "markdown",
   "metadata": {},
   "source": [
    "## Configure MATLAB engine\n",
    "\n",
    "Following [these instructions](https://www.mathworks.com/help/matlab/matlab_external/install-the-matlab-engine-for-python.html) configure your python environment to have access to your MATLAB engine. In a Mac terminal, for example, one might run the following to install the relevant engine.\n",
    "\n",
    "```bash\n",
    "cd \"/Applications/MATLAB_R2021b.app/extern/engines/python\"\n",
    "python setup.py install\n",
    "```\n",
    "\n",
    "You will also need to [download Psychtoolbox](http://psychtoolbox.org/download).\n",
    "\n",
    "## Configure DataJoint\n",
    "\n",
    "- To run `workflow-visual-stimulaiton`, we need to set up the DataJoint configuration file, called `dj_local_conf.json`, unique to each machine.\n",
    "\n",
    "- The config only needs to be set up once. If you have gone through the configuration before, directly go to [02-Workflow-Structure](./02-WorkflowStructure_Optional.ipynb).\n",
    "\n",
    "- By convention, we set the config up in the root directory of workflow package. After you set up DataJoint once, you may be interested in [setting a global config](https://docs.datajoint.org/python/setup/01-Install-and-Connect.html).\n"
   ]
  },
  {
   "cell_type": "code",
   "execution_count": 1,
   "metadata": {},
   "outputs": [],
   "source": [
    "import os\n",
    "# change to the upper level folder to detect dj_local_conf.json\n",
    "if os.path.basename(os.getcwd())=='notebooks': os.chdir('..')\n",
    "assert os.path.basename(os.getcwd()).startswith('workflow'), (\"Please move to the \"\n",
    "                                                              + \"workflow directory\")"
   ]
  },
  {
   "cell_type": "markdown",
   "metadata": {},
   "source": [
    "### Credentials\n",
    "\n",
    "Now let's set up the host, user and password in the `dj.config` variable"
   ]
  },
  {
   "cell_type": "code",
   "execution_count": null,
   "metadata": {},
   "outputs": [],
   "source": [
    "import datajoint as dj\n",
    "import getpass\n",
    "dj.config['database.host'] = '{YOUR_HOST}'\n",
    "dj.config['database.user'] = '{YOUR_USERNAME}'\n",
    "dj.config['database.password'] = getpass.getpass() # enter the password securily"
   ]
  },
  {
   "cell_type": "markdown",
   "metadata": {},
   "source": [
    "You should be able to connect to the database at this stage."
   ]
  },
  {
   "cell_type": "code",
   "execution_count": 3,
   "metadata": {},
   "outputs": [
    {
     "name": "stdout",
     "output_type": "stream",
     "text": [
      "Connecting cbroz@dss-db.datajoint.io:3306\n"
     ]
    },
    {
     "data": {
      "text/plain": [
       "DataJoint connection (connected) cbroz@dss-db.datajoint.io:3306"
      ]
     },
     "execution_count": 3,
     "metadata": {},
     "output_type": "execute_result"
    }
   ],
   "source": [
    "import datajoint as dj\n",
    "dj.conn()"
   ]
  },
  {
   "cell_type": "markdown",
   "metadata": {},
   "source": [
    "### Database prefix\n",
    "\n",
    "Giving a prefix to schema could help on the configuration of privilege settings. For example, if we set prefix `neuro_`, every schema created with the current workflow will start with `neuro_`, e.g. `neuro_lab`, `neuro_subject`, `neuro_session` etc.\n",
    "\n",
    "The prefix could be configurated as follows in `dj.config`:"
   ]
  },
  {
   "cell_type": "code",
   "execution_count": null,
   "metadata": {},
   "outputs": [],
   "source": [
    "dj.config['custom'] = {'database.prefix': 'neuro_'}"
   ]
  },
  {
   "cell_type": "markdown",
   "metadata": {},
   "source": [
    "### Root directories \n",
    "\n",
    "+ `vis_stim_root_data_dir` field indicates the root directory for `MISSING`"
   ]
  },
  {
   "cell_type": "code",
   "execution_count": null,
   "metadata": {},
   "outputs": [],
   "source": [
    "# If there is only one root path.\n",
    "dj.config['custom']['vis_stim_root_data_dir'] = '/tmp/test_data'\n",
    "# If there are multiple possible root paths:\n",
    "dj.config['custom']['vis_stim_root_data_dir'] = ['/tmp/test_data']"
   ]
  },
  {
   "cell_type": "code",
   "execution_count": null,
   "metadata": {},
   "outputs": [],
   "source": [
    "dj.config"
   ]
  },
  {
   "cell_type": "markdown",
   "metadata": {},
   "source": [
    "In the database, every path is **relative to this root path**. The benefit is that the absolute path could be configured for each machine, and when data transfer happens, we just need to change the root directory in the config file. The workflow supports **multiple root directories**. If there are multiple possible root directories, specify the root as a list.\n",
    "\n",
    "In the context of the workflow, all the paths saved into the database or saved in the config file need to be in the **POSIX standards** (Unix/Linux), with `/`. The path conversion for machines of any operating system is taken care of inside the elements."
   ]
  },
  {
   "cell_type": "markdown",
   "metadata": {},
   "source": [
    "## Save the config"
   ]
  },
  {
   "cell_type": "markdown",
   "metadata": {},
   "source": [
    "With the proper configurations, we could save this as a file, either as a local json file, or a global file."
   ]
  },
  {
   "cell_type": "code",
   "execution_count": null,
   "metadata": {},
   "outputs": [],
   "source": [
    "dj.config.save_local()"
   ]
  },
  {
   "cell_type": "code",
   "execution_count": null,
   "metadata": {},
   "outputs": [],
   "source": [
    "ls"
   ]
  },
  {
   "cell_type": "markdown",
   "metadata": {},
   "source": [
    "Local configuration file is saved as `dj_local_conf.json` in the root directory of this workflow package. Next time if you change your directory to `workflow-visual-stimulus` before importing datajoint and the pipeline packages, the configurations will get properly loaded.\n",
    "\n",
    "If saved globally, there will be a hidden configuration file saved in your root directory. The configuration will be loaded no matter where the directory is."
   ]
  },
  {
   "cell_type": "code",
   "execution_count": null,
   "metadata": {},
   "outputs": [],
   "source": [
    "# dj.config.save_global()"
   ]
  },
  {
   "cell_type": "markdown",
   "metadata": {},
   "source": [
    "### Linking Module\n",
    "\n",
    "While DataJoint Elements in python have a way generating a schema-agnostic link to an upstream table, MATLAB is more difficult to parameterize in this manner. Before running the `element-visual-stimulus` schema, you'll need to change the foreign key reference in `stimulus.Sync` and `stimulus.Trial`. For demonstration purposes, we'll link these tables to `session.Session`"
   ]
  },
  {
   "cell_type": "markdown",
   "metadata": {},
   "source": [
    "# Next Step"
   ]
  },
  {
   "cell_type": "markdown",
   "metadata": {},
   "source": [
    "After the configuration, we will be able to review the workflow structure with [02-workflow-structure-optional](02-workflow-structure-optional.ipynb)."
   ]
  },
  {
   "cell_type": "code",
   "execution_count": null,
   "metadata": {},
   "outputs": [],
   "source": []
  }
 ],
 "metadata": {
  "jupytext": {
   "formats": "ipynb,py"
  },
  "kernelspec": {
   "display_name": "venv-viz",
   "language": "python",
   "name": "venv-viz"
  },
  "language_info": {
   "codemirror_mode": {
    "name": "ipython",
    "version": 3
   },
   "file_extension": ".py",
   "mimetype": "text/x-python",
   "name": "python",
   "nbconvert_exporter": "python",
   "pygments_lexer": "ipython3",
   "version": "3.9.10"
  }
 },
 "nbformat": 4,
 "nbformat_minor": 4
}
